{
 "cells": [
  {
   "cell_type": "markdown",
   "id": "69b15b40",
   "metadata": {},
   "source": [
    "\n"
   ]
  },
  {
   "cell_type": "code",
   "execution_count": 7,
   "id": "cf73a22c",
   "metadata": {},
   "outputs": [],
   "source": [
    "\n",
    "import fnmatch\n",
    "import os\n",
    "import tensorflow as tf\n",
    "import tensorflow_datasets as tfds\n",
    "import tensorflow_datasets.public_api as tfds\n",
    "import numpy as np\n",
    "import sklearn\n",
    "from sklearn import preprocessing\n",
    "import matplotlib.pyplot as plt\n",
    "import cv2\n",
    "from skimage.io import imread\n",
    "from skimage.transform import resize\n",
    "from sklearn.model_selection import train_test_split\n",
    "\n"
   ]
  },
  {
   "cell_type": "code",
   "execution_count": 5,
   "id": "02f89fb1",
   "metadata": {},
   "outputs": [],
   "source": [
    "dir_dataset = 'C:/Users/ryanb/cell_images'\n",
    "categories = ['Parasitized','Uninfected']\n",
    "X = []\n",
    "y = []\n",
    "for cat in categories:\n",
    "    path = os.path.join(dir_dataset, cat)\n",
    "    \n",
    "    for image in os.listdir(path):\n",
    "        try:\n",
    "            img_data = imread(os.path.join(path, image)) / 255\n",
    "            img_scaled = resize(img_data, (100, 100, 3))\n",
    "            X.append(img_scaled)\n",
    "            y.append(categories.index(cat))\n",
    "        except Exception as e:\n",
    "            pass\n",
    "            \n",
    "#(image, label), info = tfds.load('malaria', split = 'train', shuffle_files = True, as_supervised = True, with_info = True)"
   ]
  },
  {
   "cell_type": "code",
   "execution_count": 9,
   "id": "99bbd675",
   "metadata": {},
   "outputs": [],
   "source": [
    "\n",
    "## 0 = PARASITIZED, 1 = UNINFECTED\n",
    "#le = preprocessing.LabelEncoder().fit(y)\n",
    "#y_encoded = le.transform(y)\n",
    "\n",
    "X_train, X_test, y_train, y_test = train_test_split(np.array(X), y, test_size = 0.25, random_state = 42, shuffle = True, stratify = y)\n",
    "\n",
    "#le = preprocessing.LabelEncoder().fit(y)\n",
    "#y_train_encoded = le.transform(y_train)\n",
    "#y_test_encoded = le.transform(y_test)\n",
    "\n",
    "X_train_tensor = tf.convert_to_tensor(X_train)\n",
    "X_test_tensor = tf.convert_to_tensor(X_test)\n",
    "\n",
    "y_train_tensor = tf.convert_to_tensor(y_train)\n",
    "y_test_tensor = tf.convert_to_tensor(y_test)"
   ]
  },
  {
   "cell_type": "code",
   "execution_count": 48,
   "id": "37caca30",
   "metadata": {},
   "outputs": [],
   "source": [
    "from tensorflow import keras\n",
    "from tensorflow.keras import models, layers\n",
    "\n",
    "model_cnn = models.Sequential(\n",
    "    [\n",
    "        layers.Conv2D(32, (3,3), activation = 'relu', input_shape = (100,100,3)), #32 output channels, (3,3) convolution window\n",
    "        layers.MaxPooling2D((2,2)),\n",
    "        layers.Conv2D(64,(3,3), activation = 'relu'), #64 output channels, (3,3) convolution window\n",
    "        layers.MaxPooling2D((2,2)),\n",
    "        layers.Conv2D(64,(3,3), activation = 'relu'), #64 output channels, (3,3) convolution window\n",
    "        \n",
    "        layers.Flatten(),\n",
    "        layers.Dense(64, activation = 'relu'),\n",
    "        layers.Dense(4)\n",
    "    ]\n",
    ")\n",
    "model_cnn.summary\n",
    "model_cnn.compile(optimizer=tf.keras.optimizers.Adam(learning_rate=1e-2), loss = 'binary_crossentropy', metrics = ['accuracy'])\n",
    "\n",
    "X_train_tensor = X_train_tensor / 255\n",
    "X_test_tensor = X_test_tensor / 255"
   ]
  },
  {
   "cell_type": "code",
   "execution_count": 47,
   "id": "68a65cb7",
   "metadata": {},
   "outputs": [
    {
     "name": "stdout",
     "output_type": "stream",
     "text": [
      "Epoch 1/10\n",
      "301/646 [============>.................] - ETA: 1:23 - loss: 7.6355 - accuracy: 4.1528e-04"
     ]
    },
    {
     "ename": "KeyboardInterrupt",
     "evalue": "",
     "output_type": "error",
     "traceback": [
      "\u001b[1;31m---------------------------------------------------------------------------\u001b[0m",
      "\u001b[1;31mKeyboardInterrupt\u001b[0m                         Traceback (most recent call last)",
      "\u001b[1;32mc:\\Users\\ryanb\\OneDrive\\Documents\\GitHub\\Malaria-Cell-Image-Classification\\118B_Final.ipynb Cell 6'\u001b[0m in \u001b[0;36m<cell line: 1>\u001b[1;34m()\u001b[0m\n\u001b[1;32m----> <a href='vscode-notebook-cell:/c%3A/Users/ryanb/OneDrive/Documents/GitHub/Malaria-Cell-Image-Classification/118B_Final.ipynb#ch0000005?line=0'>1</a>\u001b[0m history \u001b[39m=\u001b[39m model_cnn\u001b[39m.\u001b[39;49mfit(X_train_tensor, y_train_tensor, epochs\u001b[39m=\u001b[39;49m\u001b[39m10\u001b[39;49m, \n\u001b[0;32m      <a href='vscode-notebook-cell:/c%3A/Users/ryanb/OneDrive/Documents/GitHub/Malaria-Cell-Image-Classification/118B_Final.ipynb#ch0000005?line=1'>2</a>\u001b[0m                     validation_data\u001b[39m=\u001b[39;49m(X_test_tensor, y_test_tensor))\n\u001b[0;32m      <a href='vscode-notebook-cell:/c%3A/Users/ryanb/OneDrive/Documents/GitHub/Malaria-Cell-Image-Classification/118B_Final.ipynb#ch0000005?line=3'>4</a>\u001b[0m plt\u001b[39m.\u001b[39mplot(history\u001b[39m.\u001b[39mhistory[\u001b[39m'\u001b[39m\u001b[39maccuracy\u001b[39m\u001b[39m'\u001b[39m])\n\u001b[0;32m      <a href='vscode-notebook-cell:/c%3A/Users/ryanb/OneDrive/Documents/GitHub/Malaria-Cell-Image-Classification/118B_Final.ipynb#ch0000005?line=4'>5</a>\u001b[0m plt\u001b[39m.\u001b[39mplot(history\u001b[39m.\u001b[39mhistory[\u001b[39m'\u001b[39m\u001b[39mval_accuracy\u001b[39m\u001b[39m'\u001b[39m])\n",
      "File \u001b[1;32m~\\AppData\\Roaming\\Python\\Python310\\site-packages\\keras\\utils\\traceback_utils.py:64\u001b[0m, in \u001b[0;36mfilter_traceback.<locals>.error_handler\u001b[1;34m(*args, **kwargs)\u001b[0m\n\u001b[0;32m     <a href='file:///c%3A/Users/ryanb/AppData/Roaming/Python/Python310/site-packages/keras/utils/traceback_utils.py?line=61'>62</a>\u001b[0m filtered_tb \u001b[39m=\u001b[39m \u001b[39mNone\u001b[39;00m\n\u001b[0;32m     <a href='file:///c%3A/Users/ryanb/AppData/Roaming/Python/Python310/site-packages/keras/utils/traceback_utils.py?line=62'>63</a>\u001b[0m \u001b[39mtry\u001b[39;00m:\n\u001b[1;32m---> <a href='file:///c%3A/Users/ryanb/AppData/Roaming/Python/Python310/site-packages/keras/utils/traceback_utils.py?line=63'>64</a>\u001b[0m   \u001b[39mreturn\u001b[39;00m fn(\u001b[39m*\u001b[39margs, \u001b[39m*\u001b[39m\u001b[39m*\u001b[39mkwargs)\n\u001b[0;32m     <a href='file:///c%3A/Users/ryanb/AppData/Roaming/Python/Python310/site-packages/keras/utils/traceback_utils.py?line=64'>65</a>\u001b[0m \u001b[39mexcept\u001b[39;00m \u001b[39mException\u001b[39;00m \u001b[39mas\u001b[39;00m e:  \u001b[39m# pylint: disable=broad-except\u001b[39;00m\n\u001b[0;32m     <a href='file:///c%3A/Users/ryanb/AppData/Roaming/Python/Python310/site-packages/keras/utils/traceback_utils.py?line=65'>66</a>\u001b[0m   filtered_tb \u001b[39m=\u001b[39m _process_traceback_frames(e\u001b[39m.\u001b[39m__traceback__)\n",
      "File \u001b[1;32m~\\AppData\\Roaming\\Python\\Python310\\site-packages\\keras\\engine\\training.py:1409\u001b[0m, in \u001b[0;36mModel.fit\u001b[1;34m(self, x, y, batch_size, epochs, verbose, callbacks, validation_split, validation_data, shuffle, class_weight, sample_weight, initial_epoch, steps_per_epoch, validation_steps, validation_batch_size, validation_freq, max_queue_size, workers, use_multiprocessing)\u001b[0m\n\u001b[0;32m   <a href='file:///c%3A/Users/ryanb/AppData/Roaming/Python/Python310/site-packages/keras/engine/training.py?line=1401'>1402</a>\u001b[0m \u001b[39mwith\u001b[39;00m tf\u001b[39m.\u001b[39mprofiler\u001b[39m.\u001b[39mexperimental\u001b[39m.\u001b[39mTrace(\n\u001b[0;32m   <a href='file:///c%3A/Users/ryanb/AppData/Roaming/Python/Python310/site-packages/keras/engine/training.py?line=1402'>1403</a>\u001b[0m     \u001b[39m'\u001b[39m\u001b[39mtrain\u001b[39m\u001b[39m'\u001b[39m,\n\u001b[0;32m   <a href='file:///c%3A/Users/ryanb/AppData/Roaming/Python/Python310/site-packages/keras/engine/training.py?line=1403'>1404</a>\u001b[0m     epoch_num\u001b[39m=\u001b[39mepoch,\n\u001b[0;32m   <a href='file:///c%3A/Users/ryanb/AppData/Roaming/Python/Python310/site-packages/keras/engine/training.py?line=1404'>1405</a>\u001b[0m     step_num\u001b[39m=\u001b[39mstep,\n\u001b[0;32m   <a href='file:///c%3A/Users/ryanb/AppData/Roaming/Python/Python310/site-packages/keras/engine/training.py?line=1405'>1406</a>\u001b[0m     batch_size\u001b[39m=\u001b[39mbatch_size,\n\u001b[0;32m   <a href='file:///c%3A/Users/ryanb/AppData/Roaming/Python/Python310/site-packages/keras/engine/training.py?line=1406'>1407</a>\u001b[0m     _r\u001b[39m=\u001b[39m\u001b[39m1\u001b[39m):\n\u001b[0;32m   <a href='file:///c%3A/Users/ryanb/AppData/Roaming/Python/Python310/site-packages/keras/engine/training.py?line=1407'>1408</a>\u001b[0m   callbacks\u001b[39m.\u001b[39mon_train_batch_begin(step)\n\u001b[1;32m-> <a href='file:///c%3A/Users/ryanb/AppData/Roaming/Python/Python310/site-packages/keras/engine/training.py?line=1408'>1409</a>\u001b[0m   tmp_logs \u001b[39m=\u001b[39m \u001b[39mself\u001b[39;49m\u001b[39m.\u001b[39;49mtrain_function(iterator)\n\u001b[0;32m   <a href='file:///c%3A/Users/ryanb/AppData/Roaming/Python/Python310/site-packages/keras/engine/training.py?line=1409'>1410</a>\u001b[0m   \u001b[39mif\u001b[39;00m data_handler\u001b[39m.\u001b[39mshould_sync:\n\u001b[0;32m   <a href='file:///c%3A/Users/ryanb/AppData/Roaming/Python/Python310/site-packages/keras/engine/training.py?line=1410'>1411</a>\u001b[0m     context\u001b[39m.\u001b[39masync_wait()\n",
      "File \u001b[1;32m~\\AppData\\Roaming\\Python\\Python310\\site-packages\\tensorflow\\python\\util\\traceback_utils.py:150\u001b[0m, in \u001b[0;36mfilter_traceback.<locals>.error_handler\u001b[1;34m(*args, **kwargs)\u001b[0m\n\u001b[0;32m    <a href='file:///c%3A/Users/ryanb/AppData/Roaming/Python/Python310/site-packages/tensorflow/python/util/traceback_utils.py?line=147'>148</a>\u001b[0m filtered_tb \u001b[39m=\u001b[39m \u001b[39mNone\u001b[39;00m\n\u001b[0;32m    <a href='file:///c%3A/Users/ryanb/AppData/Roaming/Python/Python310/site-packages/tensorflow/python/util/traceback_utils.py?line=148'>149</a>\u001b[0m \u001b[39mtry\u001b[39;00m:\n\u001b[1;32m--> <a href='file:///c%3A/Users/ryanb/AppData/Roaming/Python/Python310/site-packages/tensorflow/python/util/traceback_utils.py?line=149'>150</a>\u001b[0m   \u001b[39mreturn\u001b[39;00m fn(\u001b[39m*\u001b[39margs, \u001b[39m*\u001b[39m\u001b[39m*\u001b[39mkwargs)\n\u001b[0;32m    <a href='file:///c%3A/Users/ryanb/AppData/Roaming/Python/Python310/site-packages/tensorflow/python/util/traceback_utils.py?line=150'>151</a>\u001b[0m \u001b[39mexcept\u001b[39;00m \u001b[39mException\u001b[39;00m \u001b[39mas\u001b[39;00m e:\n\u001b[0;32m    <a href='file:///c%3A/Users/ryanb/AppData/Roaming/Python/Python310/site-packages/tensorflow/python/util/traceback_utils.py?line=151'>152</a>\u001b[0m   filtered_tb \u001b[39m=\u001b[39m _process_traceback_frames(e\u001b[39m.\u001b[39m__traceback__)\n",
      "File \u001b[1;32m~\\AppData\\Roaming\\Python\\Python310\\site-packages\\tensorflow\\python\\eager\\def_function.py:915\u001b[0m, in \u001b[0;36mFunction.__call__\u001b[1;34m(self, *args, **kwds)\u001b[0m\n\u001b[0;32m    <a href='file:///c%3A/Users/ryanb/AppData/Roaming/Python/Python310/site-packages/tensorflow/python/eager/def_function.py?line=911'>912</a>\u001b[0m compiler \u001b[39m=\u001b[39m \u001b[39m\"\u001b[39m\u001b[39mxla\u001b[39m\u001b[39m\"\u001b[39m \u001b[39mif\u001b[39;00m \u001b[39mself\u001b[39m\u001b[39m.\u001b[39m_jit_compile \u001b[39melse\u001b[39;00m \u001b[39m\"\u001b[39m\u001b[39mnonXla\u001b[39m\u001b[39m\"\u001b[39m\n\u001b[0;32m    <a href='file:///c%3A/Users/ryanb/AppData/Roaming/Python/Python310/site-packages/tensorflow/python/eager/def_function.py?line=913'>914</a>\u001b[0m \u001b[39mwith\u001b[39;00m OptionalXlaContext(\u001b[39mself\u001b[39m\u001b[39m.\u001b[39m_jit_compile):\n\u001b[1;32m--> <a href='file:///c%3A/Users/ryanb/AppData/Roaming/Python/Python310/site-packages/tensorflow/python/eager/def_function.py?line=914'>915</a>\u001b[0m   result \u001b[39m=\u001b[39m \u001b[39mself\u001b[39m\u001b[39m.\u001b[39m_call(\u001b[39m*\u001b[39margs, \u001b[39m*\u001b[39m\u001b[39m*\u001b[39mkwds)\n\u001b[0;32m    <a href='file:///c%3A/Users/ryanb/AppData/Roaming/Python/Python310/site-packages/tensorflow/python/eager/def_function.py?line=916'>917</a>\u001b[0m new_tracing_count \u001b[39m=\u001b[39m \u001b[39mself\u001b[39m\u001b[39m.\u001b[39mexperimental_get_tracing_count()\n\u001b[0;32m    <a href='file:///c%3A/Users/ryanb/AppData/Roaming/Python/Python310/site-packages/tensorflow/python/eager/def_function.py?line=917'>918</a>\u001b[0m without_tracing \u001b[39m=\u001b[39m (tracing_count \u001b[39m==\u001b[39m new_tracing_count)\n",
      "File \u001b[1;32m~\\AppData\\Roaming\\Python\\Python310\\site-packages\\tensorflow\\python\\eager\\def_function.py:947\u001b[0m, in \u001b[0;36mFunction._call\u001b[1;34m(self, *args, **kwds)\u001b[0m\n\u001b[0;32m    <a href='file:///c%3A/Users/ryanb/AppData/Roaming/Python/Python310/site-packages/tensorflow/python/eager/def_function.py?line=943'>944</a>\u001b[0m   \u001b[39mself\u001b[39m\u001b[39m.\u001b[39m_lock\u001b[39m.\u001b[39mrelease()\n\u001b[0;32m    <a href='file:///c%3A/Users/ryanb/AppData/Roaming/Python/Python310/site-packages/tensorflow/python/eager/def_function.py?line=944'>945</a>\u001b[0m   \u001b[39m# In this case we have created variables on the first call, so we run the\u001b[39;00m\n\u001b[0;32m    <a href='file:///c%3A/Users/ryanb/AppData/Roaming/Python/Python310/site-packages/tensorflow/python/eager/def_function.py?line=945'>946</a>\u001b[0m   \u001b[39m# defunned version which is guaranteed to never create variables.\u001b[39;00m\n\u001b[1;32m--> <a href='file:///c%3A/Users/ryanb/AppData/Roaming/Python/Python310/site-packages/tensorflow/python/eager/def_function.py?line=946'>947</a>\u001b[0m   \u001b[39mreturn\u001b[39;00m \u001b[39mself\u001b[39m\u001b[39m.\u001b[39m_stateless_fn(\u001b[39m*\u001b[39margs, \u001b[39m*\u001b[39m\u001b[39m*\u001b[39mkwds)  \u001b[39m# pylint: disable=not-callable\u001b[39;00m\n\u001b[0;32m    <a href='file:///c%3A/Users/ryanb/AppData/Roaming/Python/Python310/site-packages/tensorflow/python/eager/def_function.py?line=947'>948</a>\u001b[0m \u001b[39melif\u001b[39;00m \u001b[39mself\u001b[39m\u001b[39m.\u001b[39m_stateful_fn \u001b[39mis\u001b[39;00m \u001b[39mnot\u001b[39;00m \u001b[39mNone\u001b[39;00m:\n\u001b[0;32m    <a href='file:///c%3A/Users/ryanb/AppData/Roaming/Python/Python310/site-packages/tensorflow/python/eager/def_function.py?line=948'>949</a>\u001b[0m   \u001b[39m# Release the lock early so that multiple threads can perform the call\u001b[39;00m\n\u001b[0;32m    <a href='file:///c%3A/Users/ryanb/AppData/Roaming/Python/Python310/site-packages/tensorflow/python/eager/def_function.py?line=949'>950</a>\u001b[0m   \u001b[39m# in parallel.\u001b[39;00m\n\u001b[0;32m    <a href='file:///c%3A/Users/ryanb/AppData/Roaming/Python/Python310/site-packages/tensorflow/python/eager/def_function.py?line=950'>951</a>\u001b[0m   \u001b[39mself\u001b[39m\u001b[39m.\u001b[39m_lock\u001b[39m.\u001b[39mrelease()\n",
      "File \u001b[1;32m~\\AppData\\Roaming\\Python\\Python310\\site-packages\\tensorflow\\python\\eager\\function.py:2453\u001b[0m, in \u001b[0;36mFunction.__call__\u001b[1;34m(self, *args, **kwargs)\u001b[0m\n\u001b[0;32m   <a href='file:///c%3A/Users/ryanb/AppData/Roaming/Python/Python310/site-packages/tensorflow/python/eager/function.py?line=2449'>2450</a>\u001b[0m \u001b[39mwith\u001b[39;00m \u001b[39mself\u001b[39m\u001b[39m.\u001b[39m_lock:\n\u001b[0;32m   <a href='file:///c%3A/Users/ryanb/AppData/Roaming/Python/Python310/site-packages/tensorflow/python/eager/function.py?line=2450'>2451</a>\u001b[0m   (graph_function,\n\u001b[0;32m   <a href='file:///c%3A/Users/ryanb/AppData/Roaming/Python/Python310/site-packages/tensorflow/python/eager/function.py?line=2451'>2452</a>\u001b[0m    filtered_flat_args) \u001b[39m=\u001b[39m \u001b[39mself\u001b[39m\u001b[39m.\u001b[39m_maybe_define_function(args, kwargs)\n\u001b[1;32m-> <a href='file:///c%3A/Users/ryanb/AppData/Roaming/Python/Python310/site-packages/tensorflow/python/eager/function.py?line=2452'>2453</a>\u001b[0m \u001b[39mreturn\u001b[39;00m graph_function\u001b[39m.\u001b[39;49m_call_flat(\n\u001b[0;32m   <a href='file:///c%3A/Users/ryanb/AppData/Roaming/Python/Python310/site-packages/tensorflow/python/eager/function.py?line=2453'>2454</a>\u001b[0m     filtered_flat_args, captured_inputs\u001b[39m=\u001b[39;49mgraph_function\u001b[39m.\u001b[39;49mcaptured_inputs)\n",
      "File \u001b[1;32m~\\AppData\\Roaming\\Python\\Python310\\site-packages\\tensorflow\\python\\eager\\function.py:1860\u001b[0m, in \u001b[0;36mConcreteFunction._call_flat\u001b[1;34m(self, args, captured_inputs, cancellation_manager)\u001b[0m\n\u001b[0;32m   <a href='file:///c%3A/Users/ryanb/AppData/Roaming/Python/Python310/site-packages/tensorflow/python/eager/function.py?line=1855'>1856</a>\u001b[0m possible_gradient_type \u001b[39m=\u001b[39m gradients_util\u001b[39m.\u001b[39mPossibleTapeGradientTypes(args)\n\u001b[0;32m   <a href='file:///c%3A/Users/ryanb/AppData/Roaming/Python/Python310/site-packages/tensorflow/python/eager/function.py?line=1856'>1857</a>\u001b[0m \u001b[39mif\u001b[39;00m (possible_gradient_type \u001b[39m==\u001b[39m gradients_util\u001b[39m.\u001b[39mPOSSIBLE_GRADIENT_TYPES_NONE\n\u001b[0;32m   <a href='file:///c%3A/Users/ryanb/AppData/Roaming/Python/Python310/site-packages/tensorflow/python/eager/function.py?line=1857'>1858</a>\u001b[0m     \u001b[39mand\u001b[39;00m executing_eagerly):\n\u001b[0;32m   <a href='file:///c%3A/Users/ryanb/AppData/Roaming/Python/Python310/site-packages/tensorflow/python/eager/function.py?line=1858'>1859</a>\u001b[0m   \u001b[39m# No tape is watching; skip to running the function.\u001b[39;00m\n\u001b[1;32m-> <a href='file:///c%3A/Users/ryanb/AppData/Roaming/Python/Python310/site-packages/tensorflow/python/eager/function.py?line=1859'>1860</a>\u001b[0m   \u001b[39mreturn\u001b[39;00m \u001b[39mself\u001b[39m\u001b[39m.\u001b[39m_build_call_outputs(\u001b[39mself\u001b[39;49m\u001b[39m.\u001b[39;49m_inference_function\u001b[39m.\u001b[39;49mcall(\n\u001b[0;32m   <a href='file:///c%3A/Users/ryanb/AppData/Roaming/Python/Python310/site-packages/tensorflow/python/eager/function.py?line=1860'>1861</a>\u001b[0m       ctx, args, cancellation_manager\u001b[39m=\u001b[39;49mcancellation_manager))\n\u001b[0;32m   <a href='file:///c%3A/Users/ryanb/AppData/Roaming/Python/Python310/site-packages/tensorflow/python/eager/function.py?line=1861'>1862</a>\u001b[0m forward_backward \u001b[39m=\u001b[39m \u001b[39mself\u001b[39m\u001b[39m.\u001b[39m_select_forward_and_backward_functions(\n\u001b[0;32m   <a href='file:///c%3A/Users/ryanb/AppData/Roaming/Python/Python310/site-packages/tensorflow/python/eager/function.py?line=1862'>1863</a>\u001b[0m     args,\n\u001b[0;32m   <a href='file:///c%3A/Users/ryanb/AppData/Roaming/Python/Python310/site-packages/tensorflow/python/eager/function.py?line=1863'>1864</a>\u001b[0m     possible_gradient_type,\n\u001b[0;32m   <a href='file:///c%3A/Users/ryanb/AppData/Roaming/Python/Python310/site-packages/tensorflow/python/eager/function.py?line=1864'>1865</a>\u001b[0m     executing_eagerly)\n\u001b[0;32m   <a href='file:///c%3A/Users/ryanb/AppData/Roaming/Python/Python310/site-packages/tensorflow/python/eager/function.py?line=1865'>1866</a>\u001b[0m forward_function, args_with_tangents \u001b[39m=\u001b[39m forward_backward\u001b[39m.\u001b[39mforward()\n",
      "File \u001b[1;32m~\\AppData\\Roaming\\Python\\Python310\\site-packages\\tensorflow\\python\\eager\\function.py:497\u001b[0m, in \u001b[0;36m_EagerDefinedFunction.call\u001b[1;34m(self, ctx, args, cancellation_manager)\u001b[0m\n\u001b[0;32m    <a href='file:///c%3A/Users/ryanb/AppData/Roaming/Python/Python310/site-packages/tensorflow/python/eager/function.py?line=494'>495</a>\u001b[0m \u001b[39mwith\u001b[39;00m _InterpolateFunctionError(\u001b[39mself\u001b[39m):\n\u001b[0;32m    <a href='file:///c%3A/Users/ryanb/AppData/Roaming/Python/Python310/site-packages/tensorflow/python/eager/function.py?line=495'>496</a>\u001b[0m   \u001b[39mif\u001b[39;00m cancellation_manager \u001b[39mis\u001b[39;00m \u001b[39mNone\u001b[39;00m:\n\u001b[1;32m--> <a href='file:///c%3A/Users/ryanb/AppData/Roaming/Python/Python310/site-packages/tensorflow/python/eager/function.py?line=496'>497</a>\u001b[0m     outputs \u001b[39m=\u001b[39m execute\u001b[39m.\u001b[39;49mexecute(\n\u001b[0;32m    <a href='file:///c%3A/Users/ryanb/AppData/Roaming/Python/Python310/site-packages/tensorflow/python/eager/function.py?line=497'>498</a>\u001b[0m         \u001b[39mstr\u001b[39;49m(\u001b[39mself\u001b[39;49m\u001b[39m.\u001b[39;49msignature\u001b[39m.\u001b[39;49mname),\n\u001b[0;32m    <a href='file:///c%3A/Users/ryanb/AppData/Roaming/Python/Python310/site-packages/tensorflow/python/eager/function.py?line=498'>499</a>\u001b[0m         num_outputs\u001b[39m=\u001b[39;49m\u001b[39mself\u001b[39;49m\u001b[39m.\u001b[39;49m_num_outputs,\n\u001b[0;32m    <a href='file:///c%3A/Users/ryanb/AppData/Roaming/Python/Python310/site-packages/tensorflow/python/eager/function.py?line=499'>500</a>\u001b[0m         inputs\u001b[39m=\u001b[39;49margs,\n\u001b[0;32m    <a href='file:///c%3A/Users/ryanb/AppData/Roaming/Python/Python310/site-packages/tensorflow/python/eager/function.py?line=500'>501</a>\u001b[0m         attrs\u001b[39m=\u001b[39;49mattrs,\n\u001b[0;32m    <a href='file:///c%3A/Users/ryanb/AppData/Roaming/Python/Python310/site-packages/tensorflow/python/eager/function.py?line=501'>502</a>\u001b[0m         ctx\u001b[39m=\u001b[39;49mctx)\n\u001b[0;32m    <a href='file:///c%3A/Users/ryanb/AppData/Roaming/Python/Python310/site-packages/tensorflow/python/eager/function.py?line=502'>503</a>\u001b[0m   \u001b[39melse\u001b[39;00m:\n\u001b[0;32m    <a href='file:///c%3A/Users/ryanb/AppData/Roaming/Python/Python310/site-packages/tensorflow/python/eager/function.py?line=503'>504</a>\u001b[0m     outputs \u001b[39m=\u001b[39m execute\u001b[39m.\u001b[39mexecute_with_cancellation(\n\u001b[0;32m    <a href='file:///c%3A/Users/ryanb/AppData/Roaming/Python/Python310/site-packages/tensorflow/python/eager/function.py?line=504'>505</a>\u001b[0m         \u001b[39mstr\u001b[39m(\u001b[39mself\u001b[39m\u001b[39m.\u001b[39msignature\u001b[39m.\u001b[39mname),\n\u001b[0;32m    <a href='file:///c%3A/Users/ryanb/AppData/Roaming/Python/Python310/site-packages/tensorflow/python/eager/function.py?line=505'>506</a>\u001b[0m         num_outputs\u001b[39m=\u001b[39m\u001b[39mself\u001b[39m\u001b[39m.\u001b[39m_num_outputs,\n\u001b[1;32m   (...)\u001b[0m\n\u001b[0;32m    <a href='file:///c%3A/Users/ryanb/AppData/Roaming/Python/Python310/site-packages/tensorflow/python/eager/function.py?line=508'>509</a>\u001b[0m         ctx\u001b[39m=\u001b[39mctx,\n\u001b[0;32m    <a href='file:///c%3A/Users/ryanb/AppData/Roaming/Python/Python310/site-packages/tensorflow/python/eager/function.py?line=509'>510</a>\u001b[0m         cancellation_manager\u001b[39m=\u001b[39mcancellation_manager)\n",
      "File \u001b[1;32m~\\AppData\\Roaming\\Python\\Python310\\site-packages\\tensorflow\\python\\eager\\execute.py:54\u001b[0m, in \u001b[0;36mquick_execute\u001b[1;34m(op_name, num_outputs, inputs, attrs, ctx, name)\u001b[0m\n\u001b[0;32m     <a href='file:///c%3A/Users/ryanb/AppData/Roaming/Python/Python310/site-packages/tensorflow/python/eager/execute.py?line=51'>52</a>\u001b[0m \u001b[39mtry\u001b[39;00m:\n\u001b[0;32m     <a href='file:///c%3A/Users/ryanb/AppData/Roaming/Python/Python310/site-packages/tensorflow/python/eager/execute.py?line=52'>53</a>\u001b[0m   ctx\u001b[39m.\u001b[39mensure_initialized()\n\u001b[1;32m---> <a href='file:///c%3A/Users/ryanb/AppData/Roaming/Python/Python310/site-packages/tensorflow/python/eager/execute.py?line=53'>54</a>\u001b[0m   tensors \u001b[39m=\u001b[39m pywrap_tfe\u001b[39m.\u001b[39;49mTFE_Py_Execute(ctx\u001b[39m.\u001b[39;49m_handle, device_name, op_name,\n\u001b[0;32m     <a href='file:///c%3A/Users/ryanb/AppData/Roaming/Python/Python310/site-packages/tensorflow/python/eager/execute.py?line=54'>55</a>\u001b[0m                                       inputs, attrs, num_outputs)\n\u001b[0;32m     <a href='file:///c%3A/Users/ryanb/AppData/Roaming/Python/Python310/site-packages/tensorflow/python/eager/execute.py?line=55'>56</a>\u001b[0m \u001b[39mexcept\u001b[39;00m core\u001b[39m.\u001b[39m_NotOkStatusException \u001b[39mas\u001b[39;00m e:\n\u001b[0;32m     <a href='file:///c%3A/Users/ryanb/AppData/Roaming/Python/Python310/site-packages/tensorflow/python/eager/execute.py?line=56'>57</a>\u001b[0m   \u001b[39mif\u001b[39;00m name \u001b[39mis\u001b[39;00m \u001b[39mnot\u001b[39;00m \u001b[39mNone\u001b[39;00m:\n",
      "\u001b[1;31mKeyboardInterrupt\u001b[0m: "
     ]
    }
   ],
   "source": [
    "history = model_cnn.fit(X_train_tensor, y_train_tensor, epochs=10, \n",
    "                    validation_data=(X_test_tensor, y_test_tensor))\n",
    "\n",
    "plt.plot(history.history['accuracy'])\n",
    "plt.plot(history.history['val_accuracy'])\n",
    "plt.title('model accuracy')\n",
    "plt.ylabel('Accuracy')\n",
    "plt.xlabel('Epoch')\n",
    "plt.legend(['Train set', 'Test set'], loc='upper left')\n",
    "plt.show()\n",
    "\n",
    "print('Maximum Test Set Accuracy = ', max(history.history['val_accuracy']))"
   ]
  },
  {
   "cell_type": "markdown",
   "id": "506a1a9f",
   "metadata": {},
   "source": [
    "# Examples of labeled images"
   ]
  },
  {
   "cell_type": "code",
   "execution_count": 10,
   "id": "e8d32434",
   "metadata": {},
   "outputs": [
    {
     "name": "stdout",
     "output_type": "stream",
     "text": [
      "Object `imshow` not found.\n"
     ]
    }
   ],
   "source": [
    "#Examples of data.\n",
    "#fig = tfds.show_examples(data, info, rows = 2, cols = 4)\n",
    "#imshow"
   ]
  },
  {
   "cell_type": "markdown",
   "id": "f9b24154",
   "metadata": {},
   "source": [
    "# Data Loading and Formatting"
   ]
  },
  {
   "cell_type": "markdown",
   "id": "f3f026e1",
   "metadata": {},
   "source": [
    "## Reshape image resolution to 24 x 24, with RGB data."
   ]
  },
  {
   "cell_type": "code",
   "execution_count": 140,
   "id": "d90d9715",
   "metadata": {},
   "outputs": [],
   "source": [
    "directory = 'tensorflow_datasets/downloads/extracted/rat/cell_images'\n",
    "cats = ['Parasitized', 'Uninfected']\n",
    "img_size = 24\n",
    "data = []\n",
    "\n",
    "for cat in cats:\n",
    "    path = os.path.join(directory, cat)\n",
    "    label = cats.index(cat)\n",
    "    for img in os.listdir(path):\n",
    "            try:\n",
    "                img_arr = cv2.imread(os.path.join(path,img)\n",
    "                                     )\n",
    "                new_arr = cv2.resize(img_arr, (img_size, img_size))\n",
    "        #plt.imshow(img_arr, cmap = 'gray')\n",
    "                data.append([new_arr, label])\n",
    "            except Exception as e:\n",
    "                pass\n",
    "\n"
   ]
  },
  {
   "cell_type": "markdown",
   "id": "428f07ae",
   "metadata": {},
   "source": [
    "## Shuffle the dataset"
   ]
  },
  {
   "cell_type": "code",
   "execution_count": 168,
   "id": "2c964395",
   "metadata": {},
   "outputs": [],
   "source": [
    "import random\n",
    "random.shuffle(data)"
   ]
  },
  {
   "cell_type": "markdown",
   "id": "4c0bb23e",
   "metadata": {},
   "source": [
    "## Create arrays X and y which hold the data and and corresponding label for each image  (0 = Parasitic, 1 = Uninfected) . The labels will be used later to assess model performance"
   ]
  },
  {
   "cell_type": "code",
   "execution_count": 169,
   "id": "a864a37a",
   "metadata": {},
   "outputs": [],
   "source": [
    "X = []\n",
    "y = []\n",
    "for features, label in data:\n",
    "    X.append(features)\n",
    "    y.append(label)\n",
    "X = np.array(X).reshape(-1, img_size, img_size, 3)\n",
    "#X = X.reshape(-1,img_size * img_size\n",
    "\n",
    "X = X.reshape(-1,img_size * img_size * 3)\n",
    "X = X.T"
   ]
  },
  {
   "cell_type": "markdown",
   "id": "6a79bba2",
   "metadata": {},
   "source": [
    "## Here is an example of a resized image."
   ]
  },
  {
   "cell_type": "code",
   "execution_count": 142,
   "id": "5ad901ba",
   "metadata": {
    "scrolled": true
   },
   "outputs": [
    {
     "data": {
      "text/plain": [
       "<function matplotlib.pyplot.show(close=None, block=None)>"
      ]
     },
     "execution_count": 142,
     "metadata": {},
     "output_type": "execute_result"
    },
    {
     "data": {
      "image/png": "[encoded data removed]",
      "text/plain": [
       "<Figure size 432x288 with 1 Axes>"
      ]
     },
     "metadata": {
      "needs_background": "light"
     },
     "output_type": "display_data"
    }
   ],
   "source": [
    "\n",
    "example = X[:,1].reshape(24,24,3)\n",
    "plt.imshow(example)\n",
    "plt.show"
   ]
  },
  {
   "cell_type": "markdown",
   "id": "aa904ec3",
   "metadata": {},
   "source": [
    "# PCA Implementation\n",
    "\n",
    "## The sample mean of the resized images is shown below."
   ]
  },
  {
   "cell_type": "code",
   "execution_count": 143,
   "id": "75139c81",
   "metadata": {
    "scrolled": true
   },
   "outputs": [
    {
     "data": {
      "image/png": "[encoded data removed]",
      "text/plain": [
       "<Figure size 432x288 with 1 Axes>"
      ]
     },
     "metadata": {
      "needs_background": "light"
     },
     "output_type": "display_data"
    }
   ],
   "source": [
    "\n",
    "#Calculate Mean Cell Image\n",
    "X.shape\n",
    "mean_cell = np.mean(X, axis = 1)\n",
    "mean_cell = mean_cell[:,None]\n",
    "plt.imshow(mean_cell.reshape([img_size,img_size,3])/255)\n",
    "mean_cell.shape\n",
    "\n",
    "A = X - mean_cell"
   ]
  },
  {
   "cell_type": "code",
   "execution_count": 144,
   "id": "e8f1891b",
   "metadata": {},
   "outputs": [
    {
     "data": {
      "text/plain": [
       "(1728, 27558)"
      ]
     },
     "execution_count": 144,
     "metadata": {},
     "output_type": "execute_result"
    }
   ],
   "source": [
    "A.shape"
   ]
  },
  {
   "cell_type": "markdown",
   "id": "cd78d083",
   "metadata": {},
   "source": [
    "## Calculate zero-mean image"
   ]
  },
  {
   "cell_type": "code",
   "execution_count": 145,
   "id": "2f46fa88",
   "metadata": {
    "scrolled": true
   },
   "outputs": [],
   "source": [
    "covmatrix = A @ A.T"
   ]
  },
  {
   "cell_type": "code",
   "execution_count": 146,
   "id": "3a5f77a4",
   "metadata": {},
   "outputs": [],
   "source": [
    "eigvals, V = np.linalg.eig(covmatrix)"
   ]
  },
  {
   "cell_type": "markdown",
   "id": "52f8023b",
   "metadata": {},
   "source": [
    "## Scree Plots of PCA"
   ]
  },
  {
   "cell_type": "code",
   "execution_count": 147,
   "id": "ae8ec61a",
   "metadata": {},
   "outputs": [
    {
     "data": {
      "text/plain": [
       "Text(0.5, 1.0, 'Scree Plot')"
      ]
     },
     "execution_count": 147,
     "metadata": {},
     "output_type": "execute_result"
    },
    {
     "data": {
      "image/png": "[encoded data removed]",
      "text/plain": [
       "<Figure size 432x288 with 1 Axes>"
      ]
     },
     "metadata": {
      "needs_background": "light"
     },
     "output_type": "display_data"
    }
   ],
   "source": [
    "def eigsort(V, eigvals):\n",
    "    \n",
    "    # Sort the eigenvalues from largest to smallest. Store the sorted\n",
    "    # eigenvalues in the column vector lambd.\n",
    "    lohival = np.sort(eigvals)\n",
    "    lohiindex = np.argsort(eigvals)\n",
    "    lambd = np.flip(lohival)\n",
    "    index = np.flip(lohiindex)\n",
    "    Dsort = np.diag(lambd)\n",
    "    \n",
    "    # Sort eigenvectors to correspond to the ordered eigenvalues. Store sorted\n",
    "    # eigenvectors as columns of the matrix vsort.\n",
    "    M = np.size(lambd)\n",
    "    Vsort = np.zeros((M, M))\n",
    "    for i in range(M):\n",
    "        Vsort[:,i] = V[:,index[i]]\n",
    "    return Vsort, Dsort\n",
    "# Tim Marks 2002\n",
    "vsort, dsort = eigsort(V, eigvals)\n",
    "plt.plot(range(len(dsort)), dsort.diagonal(),'-')\n",
    "plt.ylabel('Eigenvalue')\n",
    "plt.xlabel('Component')\n",
    "plt.title('Scree Plot')"
   ]
  },
  {
   "cell_type": "code",
   "execution_count": 148,
   "id": "adf83365",
   "metadata": {},
   "outputs": [
    {
     "data": {
      "text/plain": [
       "Text(0, 0.5, 'Proportion of Variance Explained')"
      ]
     },
     "execution_count": 148,
     "metadata": {},
     "output_type": "execute_result"
    },
    {
     "data": {
      "image/png": "[encoded data removed]",
      "text/plain": [
       "<Figure size 432x288 with 1 Axes>"
      ]
     },
     "metadata": {
      "needs_background": "light"
     },
     "output_type": "display_data"
    }
   ],
   "source": [
    "expl = []\n",
    "for i in range(500):\n",
    "    expl.append(np.sum(dsort[0:i])/ np.sum(dsort))\n",
    "expl\n",
    "plt.plot(range(500), expl, '-')\n",
    "plt.xlabel('Principle Compnent')\n",
    "plt.ylabel('Proportion of Variance Explained')"
   ]
  },
  {
   "cell_type": "markdown",
   "id": "fdf6ef06",
   "metadata": {},
   "source": [
    "## 90.654% of the variance can be explained by 160 principal components"
   ]
  },
  {
   "cell_type": "code",
   "execution_count": 189,
   "id": "3507a619",
   "metadata": {},
   "outputs": [
    {
     "data": {
      "text/plain": [
       "(160, 27558)"
      ]
     },
     "execution_count": 189,
     "metadata": {},
     "output_type": "execute_result"
    }
   ],
   "source": [
    "components = vsort.T @ A\n",
    "components = components[:160,:]\n",
    "components.shape"
   ]
  },
  {
   "cell_type": "markdown",
   "id": "fe94d883",
   "metadata": {},
   "source": [
    "# K-means Implementation, K = 2"
   ]
  },
  {
   "cell_type": "code",
   "execution_count": 190,
   "id": "15a13744",
   "metadata": {},
   "outputs": [],
   "source": [
    "def calcSqDistances(X, Kmus):\n",
    "    g,h = X.shape[0], Kmus.shape[0]\n",
    "    sqDist = np.zeros((g,h),dtype =np.float32)\n",
    "    \n",
    "    for i in range(g):\n",
    "        for o in range(h):\n",
    "                sqDist[i,o] = np.linalg.norm(X[i] - Kmus[o])\n",
    "    return sqDist\n",
    "def determineRnk(sqDmat):\n",
    "    Rnk = np.zeros((sqDmat.shape))\n",
    "    for i in range(len(sqDmat)):\n",
    "        c = np.argmin(sqDmat[i])\n",
    "        Rnk[i,c] = 1\n",
    "    return Rnk\n",
    "def recalcMus(X, Rnk):\n",
    "    k = Rnk.shape[1]\n",
    "    d = X.shape[1]\n",
    "    Kmus_new = np.zeros((k,d))\n",
    "    \n",
    "    return np.divide(X.T @ Rnk, np.sum(Rnk, axis = 0)).T\n",
    "    return Kmus_new\n",
    "import time\n",
    "\n",
    "def runKMeans(K, X):\n",
    "        \n",
    "    N, D = X.shape\n",
    "\n",
    "    rand_inds = np.random.permutation(N)\n",
    "    Kmus_old = X[rand_inds[0:K],:]\n",
    "    Kmus_old.shape\n",
    "  \n",
    "    maxiters = 10\n",
    "\n",
    "    for iter in range(maxiters):\n",
    "\n",
    "        sqDmat = calcSqDistances(X, Kmus_old)\n",
    "  \n",
    "        Rnk = determineRnk(sqDmat)      \n",
    "        \n",
    "        Kmus_new = recalcMus(X, Rnk)\n",
    "        Kmus_old = Kmus_new\n",
    "          \n",
    "    return Kmus_old"
   ]
  },
  {
   "cell_type": "code",
   "execution_count": 201,
   "id": "9bc48d02",
   "metadata": {},
   "outputs": [],
   "source": [
    "Kmus = runKMeans(2, components.T)\n",
    "ypred = np.zeros(27558)\n",
    "for i in range(27558):\n",
    "    if np.linalg.norm(components[:,i]-Kmus[0]) < np.linalg.norm(components[:,i]-Kmus[1]):\n",
    "        ypred[i] = 1\n",
    "    else:\n",
    "        continue"
   ]
  },
  {
   "cell_type": "code",
   "execution_count": 202,
   "id": "d6fc4fc7",
   "metadata": {},
   "outputs": [
    {
     "data": {
      "text/plain": [
       "0.5018143551781696"
      ]
     },
     "execution_count": 202,
     "metadata": {},
     "output_type": "execute_result"
    }
   ],
   "source": [
    "np.mean((np.array(y) - ypred)**2)"
   ]
  },
  {
   "cell_type": "code",
   "execution_count": 199,
   "id": "c9eecbaa",
   "metadata": {},
   "outputs": [
    {
     "data": {
      "text/plain": [
       "1"
      ]
     },
     "execution_count": 199,
     "metadata": {},
     "output_type": "execute_result"
    }
   ],
   "source": []
  },
  {
   "cell_type": "code",
   "execution_count": null,
   "id": "f8c661e5",
   "metadata": {},
   "outputs": [],
   "source": []
  }
 ],
 "metadata": {
  "interpreter": {
   "hash": "aec2e83f823de672f513f7b31b7d58069c9522f1ad26e9202e9eea61dd190220"
  },
  "kernelspec": {
   "display_name": "Python 3.10.4 64-bit",
   "language": "python",
   "name": "python3"
  },
  "language_info": {
   "codemirror_mode": {
    "name": "ipython",
    "version": 3
   },
   "file_extension": ".py",
   "mimetype": "text/x-python",
   "name": "python",
   "nbconvert_exporter": "python",
   "pygments_lexer": "ipython3",
   "version": "3.10.4"
  }
 },
 "nbformat": 4,
 "nbformat_minor": 5
}
