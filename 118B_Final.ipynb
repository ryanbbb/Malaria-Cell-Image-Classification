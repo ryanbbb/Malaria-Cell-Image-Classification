{
 "cells": [
  {
   "cell_type": "code",
   "execution_count": 2,
   "id": "cf73a22c",
   "metadata": {},
   "outputs": [
    {
     "name": "stderr",
     "output_type": "stream",
     "text": [
      "c:\\Users\\ryanb\\AppData\\Local\\Programs\\Python\\Python310\\lib\\site-packages\\tqdm\\auto.py:22: TqdmWarning: IProgress not found. Please update jupyter and ipywidgets. See https://ipywidgets.readthedocs.io/en/stable/user_install.html\n",
      "  from .autonotebook import tqdm as notebook_tqdm\n"
     ]
    }
   ],
   "source": [
    "\n",
    "import fnmatch\n",
    "import os\n",
    "import tensorflow as tf\n",
    "import tensorflow_datasets as tfds\n",
    "import tensorflow_datasets.public_api as tfds\n",
    "import numpy as np\n",
    "import sklearn\n",
    "from sklearn import preprocessing\n",
    "import matplotlib.pyplot as plt\n",
    "import cv2\n",
    "from skimage.io import imread\n",
    "from skimage.transform import resize\n",
    "from sklearn.model_selection import train_test_split\n",
    "import matplotlib.image as mpimg\n",
    "\n"
   ]
  },
  {
   "cell_type": "code",
   "execution_count": 3,
   "id": "02f89fb1",
   "metadata": {},
   "outputs": [],
   "source": [
    "img_dim = 32\n",
    "dir_dataset = 'C:/Users/ryanb/cell_images'\n",
    "categories = ['Parasitized','Uninfected']\n",
    "\n",
    "X = []\n",
    "y = []\n",
    "for cat in categories:\n",
    "    path = os.path.join(dir_dataset, cat)\n",
    "    \n",
    "    for image in os.listdir(path):\n",
    "        if 'Thumbs' not in image:\n",
    "        #try:\n",
    "            img_data = imread(os.path.join(path, image))\n",
    "            img_scaled = resize(img_data, (img_dim, img_dim, 3))\n",
    "            X.append(np.array(img_scaled) / 255)\n",
    "            y.append(cat)\n",
    "        else: \n",
    "            continue\n",
    "        \n",
    "            \n"
   ]
  },
  {
   "cell_type": "markdown",
   "id": "da835b99",
   "metadata": {},
   "source": [
    "# Examples of labeled images"
   ]
  },
  {
   "cell_type": "code",
   "execution_count": 1,
   "id": "007c8d66",
   "metadata": {},
   "outputs": [
    {
     "ename": "NameError",
     "evalue": "name 'dir_dataset' is not defined",
     "output_type": "error",
     "traceback": [
      "\u001b[1;31m---------------------------------------------------------------------------\u001b[0m",
      "\u001b[1;31mNameError\u001b[0m                                 Traceback (most recent call last)",
      "\u001b[1;32mc:\\Users\\ryanb\\OneDrive\\Documents\\GitHub\\Malaria-Cell-Image-Classification\\118B_Final.ipynb Cell 4'\u001b[0m in \u001b[0;36m<cell line: 1>\u001b[1;34m()\u001b[0m\n\u001b[1;32m----> <a href='vscode-notebook-cell:/c%3A/Users/ryanb/OneDrive/Documents/GitHub/Malaria-Cell-Image-Classification/118B_Final.ipynb#ch0000037?line=0'>1</a>\u001b[0m path1 \u001b[39m=\u001b[39m os\u001b[39m.\u001b[39mpath\u001b[39m.\u001b[39mjoin(dir_dataset, \u001b[39m'\u001b[39m\u001b[39mParasitized\u001b[39m\u001b[39m'\u001b[39m)[\u001b[39m0\u001b[39m]\n\u001b[0;32m      <a href='vscode-notebook-cell:/c%3A/Users/ryanb/OneDrive/Documents/GitHub/Malaria-Cell-Image-Classification/118B_Final.ipynb#ch0000037?line=1'>2</a>\u001b[0m path2 \u001b[39m=\u001b[39m os\u001b[39m.\u001b[39mpath\u001b[39m.\u001b[39mjoin(dir_dataset, \u001b[39m'\u001b[39m\u001b[39mUninfected\u001b[39m\u001b[39m'\u001b[39m)[\u001b[39m0\u001b[39m]\n\u001b[0;32m      <a href='vscode-notebook-cell:/c%3A/Users/ryanb/OneDrive/Documents/GitHub/Malaria-Cell-Image-Classification/118B_Final.ipynb#ch0000037?line=2'>3</a>\u001b[0m \u001b[39m#img = mpimg.imread(path1)\u001b[39;00m\n",
      "\u001b[1;31mNameError\u001b[0m: name 'dir_dataset' is not defined"
     ]
    }
   ],
   "source": [
    "plt.imshow(X[0], interpolation='nearest')\n",
    "plt.show()\n"
   ]
  },
  {
   "cell_type": "markdown",
   "id": "333494d9",
   "metadata": {},
   "source": [
    "# Data Processing\n",
    "\n",
    "Encode labels as binary (0,1), split and shuffle data, convert data to tf.tensors."
   ]
  },
  {
   "cell_type": "code",
   "execution_count": 3,
   "id": "99bbd675",
   "metadata": {},
   "outputs": [],
   "source": [
    "\n",
    "## 0 = PARASITIZED, 1 = UNINFECTED\n",
    "\n",
    "le = preprocessing.LabelEncoder().fit(y)\n",
    "y_encoded = np.array(le.transform(y))\n",
    "\n",
    "\n",
    "X_train, X_test, y_train, y_test = train_test_split(np.array(X), y_encoded, test_size = 0.2, random_state = 42, shuffle = True)\n",
    "\n",
    "\n",
    "\n",
    "#le = preprocessing.LabelEncoder().fit(y)\n",
    "#y_train_encoded = le.transform(y_train)\n",
    "#y_test_encoded = le.transform(y_test)\n",
    "\n",
    "X_train_tensor = tf.convert_to_tensor(X_train)\n",
    "X_test_tensor = tf.convert_to_tensor(X_test)\n",
    "\n",
    "y_train_tensor = tf.convert_to_tensor(y_train)\n",
    "y_test_tensor = tf.convert_to_tensor(y_test)"
   ]
  },
  {
   "cell_type": "code",
   "execution_count": 4,
   "id": "cbb59435",
   "metadata": {},
   "outputs": [],
   "source": [
    "X_train_tensor = tf.convert_to_tensor(X_train)\n",
    "X_test_tensor = tf.convert_to_tensor(x_test)\n",
    "\n",
    "y_train_tensor = tf.convert_to_tensor(y_train)\n",
    "y_test_tensor = tf.convert_to_tensor(y_test)"
   ]
  },
  {
   "cell_type": "code",
   "execution_count": 19,
   "id": "37caca30",
   "metadata": {},
   "outputs": [
    {
     "name": "stdout",
     "output_type": "stream",
     "text": [
      "Model: \"sequential_7\"\n",
      "_________________________________________________________________\n",
      " Layer (type)                Output Shape              Param #   \n",
      "=================================================================\n",
      " conv2d_14 (Conv2D)          (None, 30, 30, 32)        896       \n",
      "                                                                 \n",
      " max_pooling2d_14 (MaxPoolin  (None, 15, 15, 32)       0         \n",
      " g2D)                                                            \n",
      "                                                                 \n",
      " batch_normalization_18 (Bat  (None, 15, 15, 32)       128       \n",
      " chNormalization)                                                \n",
      "                                                                 \n",
      " dropout_18 (Dropout)        (None, 15, 15, 32)        0         \n",
      "                                                                 \n",
      " conv2d_15 (Conv2D)          (None, 13, 13, 32)        9248      \n",
      "                                                                 \n",
      " max_pooling2d_15 (MaxPoolin  (None, 6, 6, 32)         0         \n",
      " g2D)                                                            \n",
      "                                                                 \n",
      " batch_normalization_19 (Bat  (None, 6, 6, 32)         128       \n",
      " chNormalization)                                                \n",
      "                                                                 \n",
      " dropout_19 (Dropout)        (None, 6, 6, 32)          0         \n",
      "                                                                 \n",
      " flatten_7 (Flatten)         (None, 1152)              0         \n",
      "                                                                 \n",
      " dense_16 (Dense)            (None, 256)               295168    \n",
      "                                                                 \n",
      " batch_normalization_20 (Bat  (None, 256)              1024      \n",
      " chNormalization)                                                \n",
      "                                                                 \n",
      " dropout_20 (Dropout)        (None, 256)               0         \n",
      "                                                                 \n",
      " dense_17 (Dense)            (None, 128)               32896     \n",
      "                                                                 \n",
      " batch_normalization_21 (Bat  (None, 128)              512       \n",
      " chNormalization)                                                \n",
      "                                                                 \n",
      " dropout_21 (Dropout)        (None, 128)               0         \n",
      "                                                                 \n",
      " dense_18 (Dense)            (None, 2)                 258       \n",
      "                                                                 \n",
      "=================================================================\n",
      "Total params: 340,258\n",
      "Trainable params: 339,362\n",
      "Non-trainable params: 896\n",
      "_________________________________________________________________\n"
     ]
    }
   ],
   "source": [
    "from tensorflow import keras\n",
    "from tensorflow.keras import models, layers\n",
    "\n",
    "\n",
    "#Notes: Input - Conv - Pool - Norm - Dropout - Conv2 - Max2 - norm - dropout -- 2x(dense, norm, dropout) - sigmoid\n",
    "\n",
    "model_cnn = models.Sequential(\n",
    "    [\n",
    "        layers.Conv2D(32, (3,3), activation = 'relu', input_shape = (img_dim,img_dim,3)), #32 output channels, (3,3) convolution window\n",
    "        layers.MaxPooling2D((2,2), data_format = 'channels_last'),\n",
    "        layers.BatchNormalization(),\n",
    "        layers.Dropout(0.2),\n",
    "\n",
    "        layers.Conv2D(32,(3,3), activation = 'relu'), #64 output channels, (3,3) convolution window\n",
    "        layers.MaxPooling2D((2,2)),\n",
    "        layers.BatchNormalization(),\n",
    "        layers.Dropout(0.2),\n",
    "        \n",
    "        layers.Flatten(),\n",
    "\n",
    "        layers.Dense(256, activation = 'relu'),\n",
    "        layers.BatchNormalization(),\n",
    "        layers.Dropout(0.2),\n",
    "        layers.Dense(128, activation = 'relu'),\n",
    "        layers.BatchNormalization(),\n",
    "\n",
    "        layers.Dropout(0.2),\n",
    "        layers.Dense(2,activation = 'sigmoid')\n",
    "\n",
    "    ]\n",
    ")\n",
    "\n",
    "model_cnn.compile(optimizer=tf.keras.optimizers.Adam(), loss = \"sparse_categorical_crossentropy\", metrics = ['accuracy'])\n",
    "\n",
    "model_cnn.summary()\n"
   ]
  },
  {
   "cell_type": "code",
   "execution_count": 20,
   "id": "68a65cb7",
   "metadata": {},
   "outputs": [
    {
     "name": "stdout",
     "output_type": "stream",
     "text": [
      "Epoch 1/10\n",
      "689/689 [==============================] - 31s 43ms/step - loss: 0.5986 - accuracy: 0.7056 - val_loss: 1.1741 - val_accuracy: 0.5689\n",
      "Epoch 2/10\n",
      "689/689 [==============================] - 29s 43ms/step - loss: 0.2998 - accuracy: 0.8744 - val_loss: 0.4849 - val_accuracy: 0.8525\n",
      "Epoch 3/10\n",
      "689/689 [==============================] - 29s 43ms/step - loss: 0.2099 - accuracy: 0.9242 - val_loss: 0.1669 - val_accuracy: 0.9468\n",
      "Epoch 4/10\n",
      "689/689 [==============================] - 29s 43ms/step - loss: 0.1808 - accuracy: 0.9357 - val_loss: 0.1582 - val_accuracy: 0.9497\n",
      "Epoch 5/10\n",
      "689/689 [==============================] - 29s 42ms/step - loss: 0.1749 - accuracy: 0.9406 - val_loss: 0.1432 - val_accuracy: 0.9556\n",
      "Epoch 6/10\n",
      "689/689 [==============================] - 29s 43ms/step - loss: 0.1665 - accuracy: 0.9427 - val_loss: 0.1961 - val_accuracy: 0.9461\n",
      "Epoch 7/10\n",
      "689/689 [==============================] - 28s 41ms/step - loss: 0.1624 - accuracy: 0.9453 - val_loss: 0.2585 - val_accuracy: 0.9399\n",
      "Epoch 8/10\n",
      "689/689 [==============================] - 28s 41ms/step - loss: 0.1546 - accuracy: 0.9485 - val_loss: 0.1608 - val_accuracy: 0.9563\n",
      "Epoch 9/10\n",
      "689/689 [==============================] - 29s 42ms/step - loss: 0.1481 - accuracy: 0.9503 - val_loss: 0.1685 - val_accuracy: 0.9514\n",
      "Epoch 10/10\n",
      "689/689 [==============================] - 29s 42ms/step - loss: 0.1510 - accuracy: 0.9483 - val_loss: 0.1692 - val_accuracy: 0.9487\n"
     ]
    },
    {
     "data": {
      "image/png": "[encoded data removed]",
      "text/plain": [
       "<Figure size 432x288 with 1 Axes>"
      ]
     },
     "metadata": {
      "needs_background": "light"
     },
     "output_type": "display_data"
    },
    {
     "name": "stdout",
     "output_type": "stream",
     "text": [
      "Maximum Test Set Accuracy =  0.9562771916389465\n"
     ]
    }
   ],
   "source": [
    "#history = model_cnn.fit(X_train_tensor, y_train_tensor, epochs=10, \n",
    "                    #validation_data=(X_test_tensor, y_test_tensor))\n",
    "history = model_cnn.fit(X_train, y_train, epochs=10, \n",
    "                    validation_data=(X_test, y_test))\n",
    "\n",
    "plt.plot(history.history['accuracy'])\n",
    "plt.plot(history.history['val_accuracy'])\n",
    "plt.title('model accuracy')\n",
    "plt.ylabel('Accuracy')\n",
    "plt.xlabel('Epoch')\n",
    "plt.legend(['Train set', 'Test set'], loc='upper left')\n",
    "plt.show()\n",
    "\n",
    "print('Maximum Test Set Accuracy = ', max(history.history['val_accuracy']))"
   ]
  },
  {
   "cell_type": "code",
   "execution_count": 10,
   "id": "e8d32434",
   "metadata": {},
   "outputs": [
    {
     "name": "stdout",
     "output_type": "stream",
     "text": [
      "Object `imshow` not found.\n"
     ]
    }
   ],
   "source": [
    "#Examples of data.\n",
    "#fig = tfds.show_examples(data, info, rows = 2, cols = 4)\n",
    "#imshow"
   ]
  },
  {
   "cell_type": "markdown",
   "id": "f9b24154",
   "metadata": {},
   "source": [
    "# Data Loading and Formatting"
   ]
  },
  {
   "cell_type": "markdown",
   "id": "f3f026e1",
   "metadata": {},
   "source": [
    "## Reshape image resolution to 24 x 24, with RGB data."
   ]
  },
  {
   "cell_type": "code",
   "execution_count": 140,
   "id": "d90d9715",
   "metadata": {},
   "outputs": [],
   "source": [
    "directory = 'tensorflow_datasets/downloads/extracted/rat/cell_images'\n",
    "cats = ['Parasitized', 'Uninfected']\n",
    "img_size = 24\n",
    "data = []\n",
    "\n",
    "for cat in cats:\n",
    "    path = os.path.join(directory, cat)\n",
    "    label = cats.index(cat)\n",
    "    for img in os.listdir(path):\n",
    "            try:\n",
    "                img_arr = cv2.imread(os.path.join(path,img)\n",
    "                                     )\n",
    "                new_arr = cv2.resize(img_arr, (img_size, img_size))\n",
    "        #plt.imshow(img_arr, cmap = 'gray')\n",
    "                data.append([new_arr, label])\n",
    "            except Exception as e:\n",
    "                pass\n",
    "\n"
   ]
  },
  {
   "cell_type": "markdown",
   "id": "428f07ae",
   "metadata": {},
   "source": [
    "## Shuffle the dataset"
   ]
  },
  {
   "cell_type": "code",
   "execution_count": 168,
   "id": "2c964395",
   "metadata": {},
   "outputs": [],
   "source": [
    "import random\n",
    "random.shuffle(data)"
   ]
  },
  {
   "cell_type": "markdown",
   "id": "4c0bb23e",
   "metadata": {},
   "source": [
    "## Create arrays X and y which hold the data and and corresponding label for each image  (0 = Parasitic, 1 = Uninfected) . The labels will be used later to assess model performance"
   ]
  },
  {
   "cell_type": "code",
   "execution_count": 169,
   "id": "a864a37a",
   "metadata": {},
   "outputs": [],
   "source": [
    "X = []\n",
    "y = []\n",
    "for features, label in data:\n",
    "    X.append(features)\n",
    "    y.append(label)\n",
    "X = np.array(X).reshape(-1, img_size, img_size, 3)\n",
    "#X = X.reshape(-1,img_size * img_size\n",
    "\n",
    "X = X.reshape(-1,img_size * img_size * 3)\n",
    "X = X.T"
   ]
  },
  {
   "cell_type": "markdown",
   "id": "6a79bba2",
   "metadata": {},
   "source": [
    "## Here is an example of a resized image."
   ]
  },
  {
   "cell_type": "code",
   "execution_count": 142,
   "id": "5ad901ba",
   "metadata": {
    "scrolled": true
   },
   "outputs": [
    {
     "data": {
      "text/plain": [
       "<function matplotlib.pyplot.show(close=None, block=None)>"
      ]
     },
     "execution_count": 142,
     "metadata": {},
     "output_type": "execute_result"
    },
    {
     "data": {
      "image/png": "[encoded data removed]",
      "text/plain": [
       "<Figure size 432x288 with 1 Axes>"
      ]
     },
     "metadata": {
      "needs_background": "light"
     },
     "output_type": "display_data"
    }
   ],
   "source": [
    "\n",
    "example = X[:,1].reshape(24,24,3)\n",
    "plt.imshow(example)\n",
    "plt.show"
   ]
  },
  {
   "cell_type": "markdown",
   "id": "aa904ec3",
   "metadata": {},
   "source": [
    "# PCA Implementation\n",
    "\n",
    "## The sample mean of the resized images is shown below."
   ]
  },
  {
   "cell_type": "code",
   "execution_count": 143,
   "id": "75139c81",
   "metadata": {
    "scrolled": true
   },
   "outputs": [
    {
     "data": {
      "image/png": "[encoded data removed]",
      "text/plain": [
       "<Figure size 432x288 with 1 Axes>"
      ]
     },
     "metadata": {
      "needs_background": "light"
     },
     "output_type": "display_data"
    }
   ],
   "source": [
    "\n",
    "#Calculate Mean Cell Image\n",
    "X.shape\n",
    "mean_cell = np.mean(X, axis = 1)\n",
    "mean_cell = mean_cell[:,None]\n",
    "plt.imshow(mean_cell.reshape([img_size,img_size,3])/255)\n",
    "mean_cell.shape\n",
    "\n",
    "A = X - mean_cell"
   ]
  },
  {
   "cell_type": "code",
   "execution_count": 144,
   "id": "e8f1891b",
   "metadata": {},
   "outputs": [
    {
     "data": {
      "text/plain": [
       "(1728, 27558)"
      ]
     },
     "execution_count": 144,
     "metadata": {},
     "output_type": "execute_result"
    }
   ],
   "source": [
    "A.shape"
   ]
  },
  {
   "cell_type": "markdown",
   "id": "cd78d083",
   "metadata": {},
   "source": [
    "## Calculate zero-mean image"
   ]
  },
  {
   "cell_type": "code",
   "execution_count": 145,
   "id": "2f46fa88",
   "metadata": {
    "scrolled": true
   },
   "outputs": [],
   "source": [
    "covmatrix = A @ A.T"
   ]
  },
  {
   "cell_type": "code",
   "execution_count": 146,
   "id": "3a5f77a4",
   "metadata": {},
   "outputs": [],
   "source": [
    "eigvals, V = np.linalg.eig(covmatrix)"
   ]
  },
  {
   "cell_type": "markdown",
   "id": "52f8023b",
   "metadata": {},
   "source": [
    "## Scree Plots of PCA"
   ]
  },
  {
   "cell_type": "code",
   "execution_count": 147,
   "id": "ae8ec61a",
   "metadata": {},
   "outputs": [
    {
     "data": {
      "text/plain": [
       "Text(0.5, 1.0, 'Scree Plot')"
      ]
     },
     "execution_count": 147,
     "metadata": {},
     "output_type": "execute_result"
    },
    {
     "data": {
      "image/png": "[encoded data removed]",
      "text/plain": [
       "<Figure size 432x288 with 1 Axes>"
      ]
     },
     "metadata": {
      "needs_background": "light"
     },
     "output_type": "display_data"
    }
   ],
   "source": [
    "def eigsort(V, eigvals):\n",
    "    \n",
    "    # Sort the eigenvalues from largest to smallest. Store the sorted\n",
    "    # eigenvalues in the column vector lambd.\n",
    "    lohival = np.sort(eigvals)\n",
    "    lohiindex = np.argsort(eigvals)\n",
    "    lambd = np.flip(lohival)\n",
    "    index = np.flip(lohiindex)\n",
    "    Dsort = np.diag(lambd)\n",
    "    \n",
    "    # Sort eigenvectors to correspond to the ordered eigenvalues. Store sorted\n",
    "    # eigenvectors as columns of the matrix vsort.\n",
    "    M = np.size(lambd)\n",
    "    Vsort = np.zeros((M, M))\n",
    "    for i in range(M):\n",
    "        Vsort[:,i] = V[:,index[i]]\n",
    "    return Vsort, Dsort\n",
    "# Tim Marks 2002\n",
    "vsort, dsort = eigsort(V, eigvals)\n",
    "plt.plot(range(len(dsort)), dsort.diagonal(),'-')\n",
    "plt.ylabel('Eigenvalue')\n",
    "plt.xlabel('Component')\n",
    "plt.title('Scree Plot')"
   ]
  },
  {
   "cell_type": "code",
   "execution_count": 148,
   "id": "adf83365",
   "metadata": {},
   "outputs": [
    {
     "data": {
      "text/plain": [
       "Text(0, 0.5, 'Proportion of Variance Explained')"
      ]
     },
     "execution_count": 148,
     "metadata": {},
     "output_type": "execute_result"
    },
    {
     "data": {
      "image/png": "[encoded data removed]",
      "text/plain": [
       "<Figure size 432x288 with 1 Axes>"
      ]
     },
     "metadata": {
      "needs_background": "light"
     },
     "output_type": "display_data"
    }
   ],
   "source": [
    "expl = []\n",
    "for i in range(500):\n",
    "    expl.append(np.sum(dsort[0:i])/ np.sum(dsort))\n",
    "expl\n",
    "plt.plot(range(500), expl, '-')\n",
    "plt.xlabel('Principle Compnent')\n",
    "plt.ylabel('Proportion of Variance Explained')"
   ]
  },
  {
   "cell_type": "markdown",
   "id": "fdf6ef06",
   "metadata": {},
   "source": [
    "## 90.654% of the variance can be explained by 160 principal components"
   ]
  },
  {
   "cell_type": "code",
   "execution_count": 189,
   "id": "3507a619",
   "metadata": {},
   "outputs": [
    {
     "data": {
      "text/plain": [
       "(160, 27558)"
      ]
     },
     "execution_count": 189,
     "metadata": {},
     "output_type": "execute_result"
    }
   ],
   "source": [
    "components = vsort.T @ A\n",
    "components = components[:160,:]\n",
    "components.shape"
   ]
  },
  {
   "cell_type": "markdown",
   "id": "fe94d883",
   "metadata": {},
   "source": [
    "# K-means Implementation, K = 2"
   ]
  },
  {
   "cell_type": "code",
   "execution_count": 190,
   "id": "15a13744",
   "metadata": {},
   "outputs": [],
   "source": [
    "def calcSqDistances(X, Kmus):\n",
    "    g,h = X.shape[0], Kmus.shape[0]\n",
    "    sqDist = np.zeros((g,h),dtype =np.float32)\n",
    "    \n",
    "    for i in range(g):\n",
    "        for o in range(h):\n",
    "                sqDist[i,o] = np.linalg.norm(X[i] - Kmus[o])\n",
    "    return sqDist\n",
    "def determineRnk(sqDmat):\n",
    "    Rnk = np.zeros((sqDmat.shape))\n",
    "    for i in range(len(sqDmat)):\n",
    "        c = np.argmin(sqDmat[i])\n",
    "        Rnk[i,c] = 1\n",
    "    return Rnk\n",
    "def recalcMus(X, Rnk):\n",
    "    k = Rnk.shape[1]\n",
    "    d = X.shape[1]\n",
    "    Kmus_new = np.zeros((k,d))\n",
    "    \n",
    "    return np.divide(X.T @ Rnk, np.sum(Rnk, axis = 0)).T\n",
    "    return Kmus_new\n",
    "import time\n",
    "\n",
    "def runKMeans(K, X):\n",
    "        \n",
    "    N, D = X.shape\n",
    "\n",
    "    rand_inds = np.random.permutation(N)\n",
    "    Kmus_old = X[rand_inds[0:K],:]\n",
    "    Kmus_old.shape\n",
    "  \n",
    "    maxiters = 10\n",
    "\n",
    "    for iter in range(maxiters):\n",
    "\n",
    "        sqDmat = calcSqDistances(X, Kmus_old)\n",
    "  \n",
    "        Rnk = determineRnk(sqDmat)      \n",
    "        \n",
    "        Kmus_new = recalcMus(X, Rnk)\n",
    "        Kmus_old = Kmus_new\n",
    "          \n",
    "    return Kmus_old"
   ]
  },
  {
   "cell_type": "code",
   "execution_count": 201,
   "id": "9bc48d02",
   "metadata": {},
   "outputs": [],
   "source": [
    "Kmus = runKMeans(2, components.T)\n",
    "ypred = np.zeros(27558)\n",
    "for i in range(27558):\n",
    "    if np.linalg.norm(components[:,i]-Kmus[0]) < np.linalg.norm(components[:,i]-Kmus[1]):\n",
    "        ypred[i] = 1\n",
    "    else:\n",
    "        continue"
   ]
  },
  {
   "cell_type": "code",
   "execution_count": 202,
   "id": "d6fc4fc7",
   "metadata": {},
   "outputs": [
    {
     "data": {
      "text/plain": [
       "0.5018143551781696"
      ]
     },
     "execution_count": 202,
     "metadata": {},
     "output_type": "execute_result"
    }
   ],
   "source": [
    "np.mean((np.array(y) - ypred)**2)"
   ]
  },
  {
   "cell_type": "code",
   "execution_count": 199,
   "id": "c9eecbaa",
   "metadata": {},
   "outputs": [
    {
     "data": {
      "text/plain": [
       "1"
      ]
     },
     "execution_count": 199,
     "metadata": {},
     "output_type": "execute_result"
    }
   ],
   "source": []
  },
  {
   "cell_type": "code",
   "execution_count": null,
   "id": "f8c661e5",
   "metadata": {},
   "outputs": [],
   "source": []
  }
 ],
 "metadata": {
  "interpreter": {
   "hash": "aec2e83f823de672f513f7b31b7d58069c9522f1ad26e9202e9eea61dd190220"
  },
  "kernelspec": {
   "display_name": "Python 3.10.4 64-bit",
   "language": "python",
   "name": "python3"
  },
  "language_info": {
   "codemirror_mode": {
    "name": "ipython",
    "version": 3
   },
   "file_extension": ".py",
   "mimetype": "text/x-python",
   "name": "python",
   "nbconvert_exporter": "python",
   "pygments_lexer": "ipython3",
   "version": "3.10.4"
  }
 },
 "nbformat": 4,
 "nbformat_minor": 5
}
